{
 "cells": [
  {
   "cell_type": "code",
   "execution_count": 2,
   "metadata": {
    "collapsed": false
   },
   "outputs": [],
   "source": [
    "import json\n",
    "import pandas as pd\n",
    "import numpy as np\n",
    "import html5lib\n",
    "import time\n",
    "\n",
    "import matplotlib.pyplot as plt\n",
    "%matplotlib inline\n",
    "\n",
    "from sklearn import linear_model\n",
    "from sklearn.linear_model import SGDClassifier\n",
    "from sklearn.naive_bayes import MultinomialNB\n",
    "\n",
    "from sklearn.cross_validation import train_test_split\n",
    "from sklearn.metrics import mean_squared_error\n",
    "from sklearn.feature_extraction.text import CountVectorizer\n",
    "\n",
    "import sys\n",
    "reload(sys)\n",
    "sys.setdefaultencoding('utf-8')\n",
    "\n"
   ]
  },
  {
   "cell_type": "code",
   "execution_count": 5,
   "metadata": {
    "collapsed": false
   },
   "outputs": [],
   "source": [
    "#ipython 파일과 news 아이템이 들은 폴더를 같은 경로에 두어주시기 바랍니다.\n",
    "Entertainment_path = 'Entertainment/'\n",
    "Economy_path = 'Economy/'\n",
    "IT_path = 'IT/'\n",
    "Politics_path = 'Politics/'\n",
    "Society_path = 'Society/'\n",
    "Life_Culture_path = 'Life_Culture/'\n",
    "Sports_path = 'Sports/'\n",
    "World_path = 'World/'\n",
    "\n",
    "file\n",
    "Entertainment_data = []\n",
    "Economy_data = []\n",
    "IT_data = []\n",
    "Politics_data = []\n",
    "Society_data = []\n",
    "Life_Culture_data = []\n",
    "Sports_data = []\n",
    "World_data = []\n",
    "\n",
    "#Entertainment 데이터를 읽어옵니다.\n",
    "for i in range(100):\n",
    "    file = open(Entertainment_path+'item ('+str(i+1)+').txt')\n",
    "    Entertainment_data.append(file.read())\n",
    "\n",
    "#Economy 데이터를 읽어옵니다.\n",
    "for i in range(100):\n",
    "    file = open(Economy_path+'item ('+str(i+1)+').txt')\n",
    "    Economy_data.append(file.read())\n",
    "\n",
    "#IT 데이터를 읽어옵니다.\n",
    "for i in range(100):\n",
    "    file = open(IT_path+'item ('+str(i+1)+').txt')\n",
    "    IT_data.append(file.read())\n",
    "\n",
    "#Politics 데이터를 읽어옵니다.\n",
    "for i in range(100):\n",
    "    file = open(Politics_path+'item ('+str(i+1)+').txt')\n",
    "    Politics_data.append(file.read())\n",
    "\n",
    "#Society 데이터를 읽어옵니다.\n",
    "for i in range(100):\n",
    "    file = open(Society_path+'item ('+str(i+1)+').txt')\n",
    "    Society_data.append(file.read())\n",
    "\n",
    "#Life_Culture 데이터를 읽어옵니다.\n",
    "for i in range(100):\n",
    "    file = open(Life_Culture_path+'item ('+str(i+1)+').txt')\n",
    "    Life_Culture_data.append(file.read())\n",
    "\n",
    "#Sports 데이터를 읽어옵니다.\n",
    "for i in range(100):\n",
    "    file = open(Sports_path+'item ('+str(i+1)+').txt')\n",
    "    Sports_data.append(file.read())\n",
    "\n",
    "#World 데이터를 읽어옵니다.\n",
    "for i in range(100):\n",
    "    file = open(World_path+'item ('+str(i+1)+').txt')\n",
    "    World_data.append(file.read())\n",
    "\n",
    "\n"
   ]
  },
  {
   "cell_type": "code",
   "execution_count": 13,
   "metadata": {
    "collapsed": false
   },
   "outputs": [
    {
     "data": {
      "text/plain": [
       "3"
      ]
     },
     "execution_count": 13,
     "metadata": {},
     "output_type": "execute_result"
    }
   ],
   "source": [
    "3"
   ]
  },
  {
   "cell_type": "code",
   "execution_count": null,
   "metadata": {
    "collapsed": true
   },
   "outputs": [],
   "source": []
  }
 ],
 "metadata": {
  "kernelspec": {
   "display_name": "Python 2",
   "language": "python",
   "name": "python2"
  },
  "language_info": {
   "codemirror_mode": {
    "name": "ipython",
    "version": 2
   },
   "file_extension": ".py",
   "mimetype": "text/x-python",
   "name": "python",
   "nbconvert_exporter": "python",
   "pygments_lexer": "ipython2",
   "version": "2.7.11"
  }
 },
 "nbformat": 4,
 "nbformat_minor": 0
}
