{
 "cells": [
  {
   "cell_type": "code",
<<<<<<< HEAD
   "execution_count": 1,
=======
<<<<<<< HEAD
   "execution_count": 1,
=======
   "execution_count": 56,
>>>>>>> cd20e16f82a8093a0f11c21f7d5b8d8b7b69dbc2
>>>>>>> origin/master
   "metadata": {
    "collapsed": false
   },
   "outputs": [],
   "source": [
    "import json\n",
    "import pandas as pd\n",
    "import numpy as np\n",
    "import time\n",
    "\n",
    "import matplotlib.pyplot as plt\n",
    "%matplotlib inline\n",
    "\n",
    "from sklearn import linear_model\n",
    "from sklearn.linear_model import SGDClassifier\n",
    "from sklearn.naive_bayes import MultinomialNB\n",
    "\n",
    "from sklearn.cross_validation import train_test_split\n",
    "from sklearn.metrics import mean_squared_error\n",
    "from sklearn.feature_extraction.text import CountVectorizer\n",
    "\n",
    "from konlpy.tag import Komoran\n",
    "komoran = Komoran()\n",
    "import sys\n",
    "reload(sys)\n",
    "sys.setdefaultencoding('utf-8')\n"
   ]
  },
  {
   "cell_type": "code",
<<<<<<< HEAD
   "execution_count": 2,
=======
<<<<<<< HEAD
   "execution_count": 2,
=======
   "execution_count": 57,
>>>>>>> cd20e16f82a8093a0f11c21f7d5b8d8b7b69dbc2
>>>>>>> origin/master
   "metadata": {
    "collapsed": false
   },
   "outputs": [],
   "source": [
    "def nnp_extractor(article):\n",
    "    i = 0\n",
    "    nnp_string = \"\"\n",
    "    zero_nnp_string = \"\"\n",
    "    itemMorph = komoran.pos(article.decode('cp949').encode('utf-8'))\n",
    "    for word, tag in itemMorph:\n",
    "        if(tag == 'NNP'):\n",
    "            i=i+1\n",
    "            nnp_string = nnp_string + word.encode('utf-8') + ' '\n",
    "    return nnp_string"
   ]
  },
  {
   "cell_type": "code",
<<<<<<< HEAD
   "execution_count": 3,
=======
<<<<<<< HEAD
   "execution_count": 3,
=======
   "execution_count": 58,
>>>>>>> cd20e16f82a8093a0f11c21f7d5b8d8b7b69dbc2
>>>>>>> origin/master
   "metadata": {
    "collapsed": false
   },
   "outputs": [
    {
     "ename": "NameError",
     "evalue": "global name 'komoran' is not defined",
     "output_type": "error",
     "traceback": [
      "\u001b[1;31m---------------------------------------------------------------------------\u001b[0m",
      "\u001b[1;31mNameError\u001b[0m                                 Traceback (most recent call last)",
      "\u001b[1;32m<ipython-input-3-0abf6a871a73>\u001b[0m in \u001b[0;36m<module>\u001b[1;34m()\u001b[0m\n\u001b[0;32m     23\u001b[0m \u001b[1;32mfor\u001b[0m \u001b[0mi\u001b[0m \u001b[1;32min\u001b[0m \u001b[0mrange\u001b[0m\u001b[1;33m(\u001b[0m\u001b[1;36m100\u001b[0m\u001b[1;33m)\u001b[0m\u001b[1;33m:\u001b[0m\u001b[1;33m\u001b[0m\u001b[0m\n\u001b[0;32m     24\u001b[0m     \u001b[0mfile\u001b[0m \u001b[1;33m=\u001b[0m \u001b[0mopen\u001b[0m\u001b[1;33m(\u001b[0m\u001b[0mEntertainment_path\u001b[0m\u001b[1;33m+\u001b[0m\u001b[1;34m'item ('\u001b[0m\u001b[1;33m+\u001b[0m\u001b[0mstr\u001b[0m\u001b[1;33m(\u001b[0m\u001b[0mi\u001b[0m\u001b[1;33m+\u001b[0m\u001b[1;36m1\u001b[0m\u001b[1;33m)\u001b[0m\u001b[1;33m+\u001b[0m\u001b[1;34m').txt'\u001b[0m\u001b[1;33m)\u001b[0m\u001b[1;33m\u001b[0m\u001b[0m\n\u001b[1;32m---> 25\u001b[1;33m     \u001b[0mEntertainment_data\u001b[0m\u001b[1;33m.\u001b[0m\u001b[0mappend\u001b[0m\u001b[1;33m(\u001b[0m\u001b[0mnnp_extractor\u001b[0m\u001b[1;33m(\u001b[0m\u001b[0mfile\u001b[0m\u001b[1;33m.\u001b[0m\u001b[0mread\u001b[0m\u001b[1;33m(\u001b[0m\u001b[1;33m)\u001b[0m\u001b[1;33m)\u001b[0m\u001b[1;33m)\u001b[0m\u001b[1;33m\u001b[0m\u001b[0m\n\u001b[0m\u001b[0;32m     26\u001b[0m \u001b[1;33m\u001b[0m\u001b[0m\n\u001b[0;32m     27\u001b[0m \u001b[1;31m#Economy 데이터를 읽어옵니다.\u001b[0m\u001b[1;33m\u001b[0m\u001b[1;33m\u001b[0m\u001b[0m\n",
      "\u001b[1;32m<ipython-input-2-c1336e3bb519>\u001b[0m in \u001b[0;36mnnp_extractor\u001b[1;34m(article)\u001b[0m\n\u001b[0;32m      3\u001b[0m     \u001b[0mnnp_string\u001b[0m \u001b[1;33m=\u001b[0m \u001b[1;34m\"\"\u001b[0m\u001b[1;33m\u001b[0m\u001b[0m\n\u001b[0;32m      4\u001b[0m     \u001b[0mzero_nnp_string\u001b[0m \u001b[1;33m=\u001b[0m \u001b[1;34m\"\"\u001b[0m\u001b[1;33m\u001b[0m\u001b[0m\n\u001b[1;32m----> 5\u001b[1;33m     \u001b[0mitemMorph\u001b[0m \u001b[1;33m=\u001b[0m \u001b[0mkomoran\u001b[0m\u001b[1;33m.\u001b[0m\u001b[0mpos\u001b[0m\u001b[1;33m(\u001b[0m\u001b[0marticle\u001b[0m\u001b[1;33m.\u001b[0m\u001b[0mdecode\u001b[0m\u001b[1;33m(\u001b[0m\u001b[1;34m'cp949'\u001b[0m\u001b[1;33m)\u001b[0m\u001b[1;33m.\u001b[0m\u001b[0mencode\u001b[0m\u001b[1;33m(\u001b[0m\u001b[1;34m'utf-8'\u001b[0m\u001b[1;33m)\u001b[0m\u001b[1;33m)\u001b[0m\u001b[1;33m\u001b[0m\u001b[0m\n\u001b[0m\u001b[0;32m      6\u001b[0m     \u001b[1;32mfor\u001b[0m \u001b[0mword\u001b[0m\u001b[1;33m,\u001b[0m \u001b[0mtag\u001b[0m \u001b[1;32min\u001b[0m \u001b[0mitemMorph\u001b[0m\u001b[1;33m:\u001b[0m\u001b[1;33m\u001b[0m\u001b[0m\n\u001b[0;32m      7\u001b[0m         \u001b[1;32mif\u001b[0m\u001b[1;33m(\u001b[0m\u001b[0mtag\u001b[0m \u001b[1;33m==\u001b[0m \u001b[1;34m'NNP'\u001b[0m\u001b[1;33m)\u001b[0m\u001b[1;33m:\u001b[0m\u001b[1;33m\u001b[0m\u001b[0m\n",
      "\u001b[1;31mNameError\u001b[0m: global name 'komoran' is not defined"
     ]
    }
   ],
   "source": [
    "#ipython 파일과 news 아이템이 들은 폴더를 같은 경로에 두어주시기 바랍니다.\n",
    "Entertainment_path = 'Entertainment/'\n",
    "Economy_path = 'Economy/'\n",
    "IT_path = 'IT/'\n",
    "Politics_path = 'Politics/'\n",
    "Society_path = 'Society/'\n",
    "Life_Culture_path = 'Life_Culture/'\n",
    "Sports_path = 'Sports/'\n",
    "World_path = 'World/'\n",
    "\n",
    "file\n",
    "Entertainment_data = []\n",
    "Economy_data = []\n",
    "IT_data = []\n",
    "Politics_data = []\n",
    "Society_data = []\n",
    "Life_Culture_data = []\n",
    "Sports_data = []\n",
    "World_data = []\n",
    "Parsed_data = []\n",
    "\n",
    "#Entertainment 데이터를 읽어옵니다.\n",
    "for i in range(100):\n",
    "    file = open(Entertainment_path+'item ('+str(i+1)+').txt')\n",
    "    Entertainment_data.append(nnp_extractor(file.read()))\n",
    "\n",
    "#Economy 데이터를 읽어옵니다.\n",
    "for i in range(100):\n",
    "    file = open(Economy_path+'item ('+str(i+1)+').txt')\n",
    "    Economy_data.append(nnp_extractor(file.read()))\n",
    "\n",
    "#IT 데이터를 읽어옵니다.\n",
    "for i in range(100):\n",
    "    file = open(IT_path+'item ('+str(i+1)+').txt')\n",
    "    IT_data.append(nnp_extractor(file.read()))\n",
    "\n",
    "#Politics 데이터를 읽어옵니다.\n",
    "for i in range(100):\n",
    "    file = open(Politics_path+'item ('+str(i+1)+').txt')\n",
    "    Politics_data.append(nnp_extractor(file.read()))\n",
    "\n",
    "#Society 데이터를 읽어옵니다.\n",
    "for i in range(100):\n",
    "    file = open(Society_path+'item ('+str(i+1)+').txt')\n",
    "    Society_data.append(nnp_extractor(file.read()))\n",
    "\n",
    "#Life_Culture 데이터를 읽어옵니다.\n",
    "for i in range(100):\n",
    "    file = open(Life_Culture_path+'item ('+str(i+1)+').txt')\n",
    "    Life_Culture_data.append(nnp_extractor(file.read()))\n",
    "\n",
    "#Sports 데이터를 읽어옵니다.\n",
    "for i in range(100):\n",
    "    file = open(Sports_path+'item ('+str(i+1)+').txt')\n",
    "    Sports_data.append(nnp_extractor(file.read()))\n",
    "\n",
    "#World 데이터를 읽어옵니다.\n",
    "for i in range(100):\n",
    "    file = open(World_path+'item ('+str(i+1)+').txt')\n",
    "    World_data.append(nnp_extractor(file.read()))\n",
    "\n",
    "\n",
    "Parsed_data.append(Entertainment_data) #0\n",
    "Parsed_data.append(Economy_data) #1\n",
    "Parsed_data.append(IT_data) #2\n",
    "Parsed_data.append(Politics_data) #3\n",
    "Parsed_data.append(Society_data) #4\n",
    "Parsed_data.append(Life_Culture_data) #5\n",
    "Parsed_data.append(Sports_data) #6\n",
    "Parsed_data.append(World_data) #7\n"
   ]
  },
  {
   "cell_type": "code",
<<<<<<< HEAD
   "execution_count": 4,
=======
<<<<<<< HEAD
   "execution_count": 4,
=======
   "execution_count": 59,
>>>>>>> cd20e16f82a8093a0f11c21f7d5b8d8b7b69dbc2
>>>>>>> origin/master
   "metadata": {
    "collapsed": false
   },
   "outputs": [
    {
     "ename": "IndexError",
     "evalue": "list index out of range",
     "output_type": "error",
     "traceback": [
      "\u001b[1;31m---------------------------------------------------------------------------\u001b[0m",
      "\u001b[1;31mIndexError\u001b[0m                                Traceback (most recent call last)",
      "\u001b[1;32m<ipython-input-4-ed8eafa2bd4d>\u001b[0m in \u001b[0;36m<module>\u001b[1;34m()\u001b[0m\n\u001b[1;32m----> 1\u001b[1;33m \u001b[1;32mprint\u001b[0m\u001b[1;33m(\u001b[0m\u001b[0mParsed_data\u001b[0m\u001b[1;33m[\u001b[0m\u001b[1;36m0\u001b[0m\u001b[1;33m]\u001b[0m\u001b[1;33m[\u001b[0m\u001b[1;36m0\u001b[0m\u001b[1;33m]\u001b[0m\u001b[1;33m)\u001b[0m\u001b[1;33m\u001b[0m\u001b[0m\n\u001b[0m",
      "\u001b[1;31mIndexError\u001b[0m: list index out of range"
     ]
    }
   ],
   "source": [
    "print(Parsed_data[0][0])"
   ]
  },
  {
   "cell_type": "code",
   "execution_count": null,
   "metadata": {
    "collapsed": true
   },
   "outputs": [],
   "source": []
  }
 ],
 "metadata": {
  "kernelspec": {
   "display_name": "Python 2",
   "language": "python",
   "name": "python2"
  },
  "language_info": {
   "codemirror_mode": {
    "name": "ipython",
    "version": 2
   },
   "file_extension": ".py",
   "mimetype": "text/x-python",
   "name": "python",
   "nbconvert_exporter": "python",
   "pygments_lexer": "ipython2",
   "version": "2.7.11"
  }
 },
 "nbformat": 4,
 "nbformat_minor": 0
}
