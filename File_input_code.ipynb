{
 "cells": [
  {
   "cell_type": "code",
   "execution_count": 1,
   "metadata": {
    "collapsed": false
   },
   "outputs": [],
   "source": [
    "import json\n",
    "import pandas as pd\n",
    "import numpy as np\n",
    "import time\n",
    "\n",
    "import matplotlib.pyplot as plt\n",
    "%matplotlib inline\n",
    "\n",
    "from sklearn import linear_model\n",
    "from sklearn.linear_model import SGDClassifier\n",
    "from sklearn.naive_bayes import MultinomialNB\n",
    "\n",
    "from sklearn.cross_validation import train_test_split\n",
    "from sklearn.metrics import mean_squared_error\n",
    "from sklearn.feature_extraction.text import CountVectorizer\n",
    "\n",
    "from konlpy.tag import Komoran\n",
    "komoran = Komoran()\n",
    "import sys\n",
    "reload(sys)\n",
    "sys.setdefaultencoding('utf-8')\n"
   ]
  },
  {
   "cell_type": "code",
   "execution_count": 2,
   "metadata": {
    "collapsed": false
   },
   "outputs": [],
   "source": [
    "def nnp_extractor(article):\n",
    "    i = 0\n",
    "    nnp_string = \"\"\n",
    "    zero_nnp_string = \"\"\n",
    "    itemMorph = komoran.pos(article.decode('cp949').encode('utf-8'))\n",
    "    for word, tag in itemMorph:\n",
    "        if(tag == 'NNP'):\n",
    "            i=i+1\n",
    "            nnp_string = nnp_string + word.encode('utf-8') + ' '\n",
    "    return nnp_string"
   ]
  },
  {
   "cell_type": "code",
   "execution_count": 3,
   "metadata": {
    "collapsed": false
   },
   "outputs": [],
   "source": [
    "#ipython 파일과 news 아이템이 들은 폴더를 같은 경로에 두어주시기 바랍니다.\n",
    "Entertainment_path = 'Entertainment/'\n",
    "Economy_path = 'Economy/'\n",
    "IT_path = 'IT/'\n",
    "Politics_path = 'Politics/'\n",
    "Society_path = 'Society/'\n",
    "Life_Culture_path = 'Life_Culture/'\n",
    "Sports_path = 'Sports/'\n",
    "World_path = 'World/'\n",
    "\n",
    "file\n",
    "Entertainment_data = []\n",
    "Economy_data = []\n",
    "IT_data = []\n",
    "Politics_data = []\n",
    "Society_data = []\n",
    "Life_Culture_data = []\n",
    "Sports_data = []\n",
    "World_data = []\n",
    "Parsed_data = []\n",
    "\n",
    "#Entertainment 데이터를 읽어옵니다.\n",
    "for i in range(100):\n",
    "    file = open(Entertainment_path+'item ('+str(i+1)+').txt')\n",
    "    Entertainment_data.append(nnp_extractor(file.read()))\n",
    "\n",
    "#Economy 데이터를 읽어옵니다.\n",
    "for i in range(100):\n",
    "    file = open(Economy_path+'item ('+str(i+1)+').txt')\n",
    "    Economy_data.append(nnp_extractor(file.read()))\n",
    "\n",
    "#IT 데이터를 읽어옵니다.\n",
    "for i in range(100):\n",
    "    file = open(IT_path+'item ('+str(i+1)+').txt')\n",
    "    IT_data.append(nnp_extractor(file.read()))\n",
    "\n",
    "#Politics 데이터를 읽어옵니다.\n",
    "for i in range(100):\n",
    "    file = open(Politics_path+'item ('+str(i+1)+').txt')\n",
    "    Politics_data.append(nnp_extractor(file.read()))\n",
    "\n",
    "#Society 데이터를 읽어옵니다.\n",
    "for i in range(100):\n",
    "    file = open(Society_path+'item ('+str(i+1)+').txt')\n",
    "    Society_data.append(nnp_extractor(file.read()))\n",
    "\n",
    "#Life_Culture 데이터를 읽어옵니다.\n",
    "for i in range(100):\n",
    "    file = open(Life_Culture_path+'item ('+str(i+1)+').txt')\n",
    "    Life_Culture_data.append(nnp_extractor(file.read()))\n",
    "\n",
    "#Sports 데이터를 읽어옵니다.\n",
    "for i in range(100):\n",
    "    file = open(Sports_path+'item ('+str(i+1)+').txt')\n",
    "    Sports_data.append(nnp_extractor(file.read()))\n",
    "\n",
    "#World 데이터를 읽어옵니다.\n",
    "for i in range(100):\n",
    "    file = open(World_path+'item ('+str(i+1)+').txt')\n",
    "    World_data.append(nnp_extractor(file.read()))\n",
    "\n",
    "\n",
    "Parsed_data.append(Entertainment_data) #0\n",
    "Parsed_data.append(Economy_data) #1\n",
    "Parsed_data.append(IT_data) #2\n",
    "Parsed_data.append(Politics_data) #3\n",
    "Parsed_data.append(Society_data) #4\n",
    "Parsed_data.append(Life_Culture_data) #5\n",
    "Parsed_data.append(Sports_data) #6\n",
    "Parsed_data.append(World_data) #7\n"
   ]
  },
  {
   "cell_type": "code",
   "execution_count": 4,
   "metadata": {
    "collapsed": false
   },
   "outputs": [],
   "source": [
    "print(Parsed_data[0][0])"
   ]
  },
  {
   "cell_type": "code",
   "execution_count": null,
   "metadata": {
    "collapsed": true
   },
   "outputs": [],
   "source": []
  }
 ],
 "metadata": {
  "kernelspec": {
   "display_name": "Python 2",
   "language": "python",
   "name": "python2"
  },
  "language_info": {
   "codemirror_mode": {
    "name": "ipython",
    "version": 2
   },
   "file_extension": ".py",
   "mimetype": "text/x-python",
   "name": "python",
   "nbconvert_exporter": "python",
   "pygments_lexer": "ipython2",
   "version": "2.7.11"
  }
 },
 "nbformat": 4,
 "nbformat_minor": 0
}
