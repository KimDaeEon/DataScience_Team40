{
 "cells": [
  {
   "cell_type": "code",
   "execution_count": 2,
   "metadata": {
    "collapsed": false
   },
   "outputs": [],
   "source": [
    "from bs4 import BeautifulSoup\n",
    "from pattern import web\n",
    "import urllib2\n",
    "import sys\n",
    "import re\n",
    "reload(sys)\n",
    "sys.setdefaultencoding('UTF8')\n",
    "\n",
    "search_word = \"이세돌 인공지능 알파고\"\n",
    "search_query = \"\"\n",
    "str_array = search_word.split()\n",
    "\n",
    "for word in str_array:\n",
    "    search_query += word.encode(\"euc-kr\") + \"+\"\n",
    "\n",
    "print(search_word+\" 검색 결과\")\n",
    "url = \"http://news.naver.com/main/search/search.nhn?query=\" + search_query\n",
    "request = urllib2.Request(url)\n",
    "\n",
    "response = urllib2.urlopen(request)\n",
    "blog = BeautifulSoup(response,\"html.parser\")\n",
    "\n",
    "dom = web.Element(blog)\n",
    "\n",
    "for news in dom('ul[class=srch_lst]'):\n",
    "    temp = news.source\n",
    "    dom2 = web.Element(temp)\n",
    "    title = dom2('a[class=tit]')[0].source\n",
    "    desc = dom2('p[class=dsc]')[0].source\n",
    "    url = re.findall('href *= *[\\'\"]([^\\'\"]+)', title)[0]\n",
    "    print(web.plaintext(url))\n",
    "    print(web.plaintext(title))\n",
    "    print(web.plaintext(desc))\n",
    "    print(\"\\n\")\n",
    "    \n",
    "\n",
    "    "
   ]
  },
  {
   "cell_type": "code",
   "execution_count": null,
   "metadata": {
    "collapsed": true
   },
   "outputs": [],
   "source": []
  }
 ],
 "metadata": {
  "kernelspec": {
   "display_name": "Python 2",
   "language": "python",
   "name": "python2"
  },
  "language_info": {
   "codemirror_mode": {
    "name": "ipython",
    "version": 2
   },
   "file_extension": ".py",
   "mimetype": "text/x-python",
   "name": "python",
   "nbconvert_exporter": "python",
   "pygments_lexer": "ipython2",
   "version": "2.7.11"
  }
 },
 "nbformat": 4,
 "nbformat_minor": 0
}
