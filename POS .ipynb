{
 "cells": [
  {
   "cell_type": "code",
   "execution_count": 2,
   "metadata": {
    "collapsed": false
   },
   "outputs": [],
   "source": [
    "from konlpy.tag import Komoran\n",
    "komoran = Komoran()\n",
    "import sys\n",
    "reload(sys)\n",
    "sys.setdefaultencoding('utf-8')\n",
    "\n",
    "sentence = \"임종룡 금융위원장이 23일 정부는 구조조정의 기본방향을 제시하고 기업구조조정은 채권단 중심으로 흔들림 없이 추진해 나가겠다고 밝혔다. 임 위원장은 정부서울청사 입주 첫날인 이날 간부회의에서 기업구조조정은 신속하게 이뤄져야 한다며 이같이 말했다. 그는 구조조정은 해당 기업의 철저한 자구노력을 기초로 채권단 중심으로 흔들림 없이 구조조정을 추진해 나가야 한다며 정부는 구조조정의 기본방향을 제시하고, 국책은행 자본확충과 실업문제 지원 등을 통해 시장에서 원활한 구조조정이 이루어지도록 최선을 다해야 한다고 밝혔다. .\"\n",
    "\n",
    "itemMorph = komoran.pos(sentence.decode('utf-8'))\n",
    "\n",
    "print(sentence)\n",
    "\n",
    "b = \"\"\n",
    "POS = \"\"\n",
    "for word in itemMorph:\n",
    "    for abc in word:\n",
    "        b = b + abc.encode('utf-8') + '/'\n",
    "    b = b + \" + \"\n",
    "\n",
    "    \n",
    "print(b)\n"
   ]
  },
  {
   "cell_type": "code",
   "execution_count": null,
   "metadata": {
    "collapsed": true
   },
   "outputs": [],
   "source": []
  }
 ],
 "metadata": {
  "kernelspec": {
   "display_name": "Python 2",
   "language": "python",
   "name": "python2"
  },
  "language_info": {
   "codemirror_mode": {
    "name": "ipython",
    "version": 2
   },
   "file_extension": ".py",
   "mimetype": "text/x-python",
   "name": "python",
   "nbconvert_exporter": "python",
   "pygments_lexer": "ipython2",
   "version": "2.7.11"
  }
 },
 "nbformat": 4,
 "nbformat_minor": 0
}
