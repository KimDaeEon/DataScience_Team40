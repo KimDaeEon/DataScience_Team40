{
 "cells": [
  {
   "cell_type": "code",
   "execution_count": 9,
   "metadata": {
    "collapsed": false
   },
   "outputs": [],
   "source": [
    "from konlpy.tag import Komoran\n",
    "komoran = Komoran()\n",
    "import sys\n",
    "reload(sys)\n",
    "sys.setdefaultencoding('utf-8')\n",
    "\n",
    "\n",
    "sentence = \"청소년 스마트폰 비디오 시청 4년 만에 85% 늘어 (서울=연합뉴스) 김윤구 기자 = 전 세계의 스마트폰 대수가 올해 3분기에 피처폰을 처음으로 추월할 것이라고 스웨덴 통신그룹 에릭슨이 1일(현지시간) 전망했다. 올해 1분기 팔린 휴대전화에서 스마트폰이 차지하는 비중은 80%에 육박했다. 파이낸셜타임스에 따르면 에릭슨은 2021년까지 스마트폰 대수가 34억대에서 63억대로 늘어날 것으로 전망했다. 하지만 스마트홈과 스마트카 등 사물인터넷(IoT)이 2018년에 휴대전화를 뛰어넘어 최대의 인터넷 연결 기기로 자리 잡을 것으로 예상됐다. 전체 280억대의 연결 기기 가운데 사물인터넷이 160억대를 차지한다는 것이다. 한편 각국 청소년이 스마트폰으로 비디오를 보는 시간이 폭발적으로 늘고 있는 것으로 나타났다. 에릭슨 보고서에 따르면 16∼19세 청소년이 집에서 스마트폰으로 TV와 동영상을 보는 시간은 2011년에서 2015년 사이 4년 만에 85%나 늘었다. 반면 전통적인 TV 스크린을 통한 시청은 같은 기간 약 절반으로 줄었다. 보고서는 스트리밍 비디오 시청이 급증했다면서 TV에서 스마트폰으로 이동하는 것은 모든 연령대에서 공통으로 나타나는 현상이지만 특히 10대에서 두드러졌다고 지적했다\"\n",
    "itemMorph = komoran.pos(sentence.decode('utf-8'))\n",
    "\n",
    "def nnp_extractor(article):\n",
    "    nnp_string = \"\"\n",
    "    for word, tag in itemMorph:\n",
    "        if(tag == 'NNP'):\n",
    "            nnp_string = nnp_string + word.encode('utf-8') + ' '\n",
    "        \n",
    "    return nnp_string\n",
    "\n",
    "print(nnp_extractor(sentence))"
   ]
  },
  {
   "cell_type": "code",
   "execution_count": null,
   "metadata": {
    "collapsed": true
   },
   "outputs": [],
   "source": []
  }
 ],
 "metadata": {
  "kernelspec": {
   "display_name": "Python 2",
   "language": "python",
   "name": "python2"
  },
  "language_info": {
   "codemirror_mode": {
    "name": "ipython",
    "version": 2
   },
   "file_extension": ".py",
   "mimetype": "text/x-python",
   "name": "python",
   "nbconvert_exporter": "python",
   "pygments_lexer": "ipython2",
   "version": "2.7.11"
  }
 },
 "nbformat": 4,
 "nbformat_minor": 0
}
